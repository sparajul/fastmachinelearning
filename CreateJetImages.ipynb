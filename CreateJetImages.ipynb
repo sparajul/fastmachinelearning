{
 "cells": [
  {
   "cell_type": "code",
   "execution_count": 1,
   "metadata": {
    "scrolled": true
   },
   "outputs": [],
   "source": [
    "import uproot3 as up \n",
    "import numpy as np\n",
    "from skimage import transform\n",
    "from pylab import figure, cm\n",
    "from matplotlib.colors import LogNorm"
   ]
  },
  {
   "cell_type": "code",
   "execution_count": 2,
   "metadata": {},
   "outputs": [
    {
     "data": {
      "text/plain": [
       "[b'AntiKt10LCTopoLeadJets_partonTruthLabel',\n",
       " b'AntiKt10LCTopoLeadJets_pt',\n",
       " b'AntiKt10LCTopoLeadJets_nConstitutents',\n",
       " b'AntiKt10LCTopoLeadJets_eta',\n",
       " b'AntiKt10LCTopoLeadJets_phi',\n",
       " b'AntiKt10LCTopoLeadJets_clus_calE',\n",
       " b'AntiKt10LCTopoLeadJets_clus_calEta',\n",
       " b'AntiKt10LCTopoLeadJets_clus_calPhi',\n",
       " b'AntiKt10LCTopoSubLeadJets_partonTruthLabel',\n",
       " b'AntiKt10LCTopoSubLeadJets_pt',\n",
       " b'AntiKt10LCTopoSubLeadJets_nConstitutents',\n",
       " b'AntiKt10LCTopoSubLeadJets_eta',\n",
       " b'AntiKt10LCTopoSubLeadJets_phi',\n",
       " b'AntiKt10LCTopoSubLeadJets_clus_calE',\n",
       " b'AntiKt10LCTopoSubLeadJets_clus_calEta',\n",
       " b'AntiKt10LCTopoSubLeadJets_clus_calPhi']"
      ]
     },
     "execution_count": 2,
     "metadata": {},
     "output_type": "execute_result"
    }
   ],
   "source": [
    "ttbar_events = up.open(\"/data/rohin/ttbar_Akt10.root\")['ntuple']\n",
    "ztt_events   = up.open(\"/data/rohin/ztt_Akt10.root\")['ntuple']\n",
    "\n",
    "ttbar_events.keys()"
   ]
  },
  {
   "cell_type": "code",
   "execution_count": 3,
   "metadata": {},
   "outputs": [],
   "source": [
    "df_tt   = ttbar_events.pandas.df(flatten=False)\n",
    "df_ztt  = ztt_events.pandas.df(flatten=False)"
   ]
  },
  {
   "cell_type": "code",
   "execution_count": 4,
   "metadata": {
    "scrolled": false
   },
   "outputs": [
    {
     "data": {
      "image/png": "[encoded data removed]",
      "text/plain": [
       "<Figure size 432x288 with 1 Axes>"
      ]
     },
     "metadata": {
      "needs_background": "light"
     },
     "output_type": "display_data"
    }
   ],
   "source": [
    "import matplotlib.pyplot as plt\n",
    "plt.hist(df_tt['AntiKt10LCTopoLeadJets_pt']/1e3,bins=25,alpha=0.5,label='ttbar')\n",
    "plt.hist(df_ztt['AntiKt10LCTopoLeadJets_pt']/1e3,bins=25,alpha=0.5,label='ztt')\n",
    "plt.legend()\n",
    "plt.savefig(\"pt.png\")"
   ]
  },
  {
   "cell_type": "code",
   "execution_count": 5,
   "metadata": {},
   "outputs": [],
   "source": [
    "df_ttSel = df_tt[df_tt['AntiKt10LCTopoLeadJets_pt']/1e3 > 100]\n",
    "df_zttSel= df_ztt[df_ztt['AntiKt10LCTopoLeadJets_pt']/1e3 > 100]"
   ]
  },
  {
   "cell_type": "code",
   "execution_count": 7,
   "metadata": {},
   "outputs": [],
   "source": [
    "#plt.hist(df_ttSel[\"AntiKt10LCTopoLeadJets_clus_calEta\"])"
   ]
  },
  {
   "cell_type": "code",
   "execution_count": 8,
   "metadata": {},
   "outputs": [],
   "source": [
    "def saveimage(df,imName):\n",
    "    #translate\n",
    "    leading_jet_images\n",
    "    x = pixel_edges()\n",
    "    df_ttSel[['modEta','modPhi']] = translate(df_ttSel,['AntiKt10LCTopoLeadJets_clus_calEta',\n",
    "                                                  'AntiKt10LCTopoLeadJets_clus_calPhi']).tolist()\n",
    "    df_zttSel[['modEta','modPhi']] = translate(df_zttSel,['AntiKt10LCTopoLeadJets_clus_calEta',\n",
    "                                                  'AntiKt10LCTopoLeadJets_clus_calPhi']).tolist()\n",
    "\n",
    "def translate(df,cols):\n",
    "    '''Convert selected df with selected columns into \n",
    "    numpy arrays'''\n",
    "    arrays = np.array([df[x] for x in cols])\n",
    "    '''Create a return vector of exactly the same shape\n",
    "    as the input'''\n",
    "    ret      = np.zeros((arrays.shape),dtype=object)\n",
    "\n",
    "    \n",
    "    '''Loop over the column names and subtract from every entry, the leading entry'''\n",
    "    for i,aCol in enumerate(cols):\n",
    "        col0 = arrays[i,:,:,][:,0]\n",
    "        ret[i,:] = (arrays[i,] - col0[:,np.newaxis])\n",
    "\n",
    "    return ret\n",
    "\n",
    "\n",
    "def pixel_edges(jet_size=1.0, pixel_size=(0.1, 0.1), border_size=0.5):\n",
    "    \"\"\"Return pixel edges required to contain all clusters.\n",
    "    border_size is interpreted as a fraction of the jet_size\n",
    "    \"\"\"\n",
    "    im_edge = (1. + border_size) * jet_size\n",
    "    return (np.arange(-im_edge, im_edge+pixel_size[0], pixel_size[0]),\n",
    "            np.arange(-im_edge, im_edge+pixel_size[1], pixel_size[1]))\n",
    "\n",
    "def pixelize(jet_csts, edges, cutoff=0.1):\n",
    "    \"\"\"Return eta-phi histogram of transverse energy deposits.\n",
    "    Optionally set all instensities below cutoff to zero.\n",
    "    \"\"\"\n",
    "    image, _, _ = np.histogram2d(\n",
    "        jet_csts['modEta'], jet_csts['modPhi'],\n",
    "        bins=(edges[0], edges[1]),\n",
    "        weights=jet_csts['AntiKt10LCTopoSubLeadJets_clus_calE'] * (jet_csts['AntiKt10LCTopoSubLeadJets_clus_calE'] > cutoff))\n",
    "    return image\n",
    "\n",
    "def pixelize2(data, edges, cutoff=0.1):\n",
    "    \"\"\"Return eta-phi histogram of transverse energy deposits.\n",
    "    Optionally set all instensities below cutoff to zero.\n",
    "    \"\"\"\n",
    "    image, _, _ = np.histogram2d(\n",
    "        data[0],data[1],\n",
    "        bins=(edges[0], edges[1]),\n",
    "        weights=data[2] * (data[2] > cutoff))\n",
    "    return image\n",
    "\n",
    "def getJetImages(df):\n",
    "    eta = translate(df,['AntiKt10LCTopoLeadJets_clus_calEta','AntiKt10LCTopoLeadJets_clus_calPhi'])[0]\n",
    "    phi = translate(df,['AntiKt10LCTopoLeadJets_clus_calEta','AntiKt10LCTopoLeadJets_clus_calPhi'])[1]\n",
    "    eng = df.AntiKt10LCTopoLeadJets_clus_calE.values\n",
    "    \n",
    "    edges = pixel_edges()\n",
    "    li_images = []\n",
    "    for i in range(eta.shape[0]):\n",
    "        li_images.append(pixelize2([eta[i],phi[i],eng[i]],edges))\n",
    "    return li_images\n",
    "\n",
    "def normalize(histo, multi=255):\n",
    "    \"\"\"\n",
    "    Normalize picture in [0,multi] range, with integer steps. E.g. multi=255 for 256 steps.\n",
    "    \"\"\"\n",
    "    return (histo/np.max(histo)*multi).astype(int)"
   ]
  },
  {
   "cell_type": "code",
   "execution_count": 9,
   "metadata": {
    "scrolled": false
   },
   "outputs": [
    {
     "name": "stderr",
     "output_type": "stream",
     "text": [
      "/home/rnarayan/.conda/envs/hls4ml/lib/python3.7/site-packages/ipykernel_launcher.py:3: SettingWithCopyWarning: \n",
      "A value is trying to be set on a copy of a slice from a DataFrame.\n",
      "Try using .loc[row_indexer,col_indexer] = value instead\n",
      "\n",
      "See the caveats in the documentation: https://pandas.pydata.org/pandas-docs/stable/user_guide/indexing.html#returning-a-view-versus-a-copy\n",
      "  This is separate from the ipykernel package so we can avoid doing imports until\n",
      "/home/rnarayan/.conda/envs/hls4ml/lib/python3.7/site-packages/pandas/core/indexing.py:1700: SettingWithCopyWarning: \n",
      "A value is trying to be set on a copy of a slice from a DataFrame.\n",
      "Try using .loc[row_indexer,col_indexer] = value instead\n",
      "\n",
      "See the caveats in the documentation: https://pandas.pydata.org/pandas-docs/stable/user_guide/indexing.html#returning-a-view-versus-a-copy\n",
      "  self._setitem_single_column(loc, v, pi)\n",
      "/home/rnarayan/.conda/envs/hls4ml/lib/python3.7/site-packages/ipykernel_launcher.py:6: SettingWithCopyWarning: \n",
      "A value is trying to be set on a copy of a slice from a DataFrame.\n",
      "Try using .loc[row_indexer,col_indexer] = value instead\n",
      "\n",
      "See the caveats in the documentation: https://pandas.pydata.org/pandas-docs/stable/user_guide/indexing.html#returning-a-view-versus-a-copy\n",
      "  \n"
     ]
    }
   ],
   "source": [
    "x = pixel_edges()\n",
    "df_ttSel[['modEta','modPhi']] = translate(df_ttSel,['AntiKt10LCTopoLeadJets_clus_calEta',\n",
    "                                                  'AntiKt10LCTopoLeadJets_clus_calPhi']).tolist()\n",
    "\n",
    "df_zttSel[['modEta','modPhi']] = translate(df_zttSel,['AntiKt10LCTopoLeadJets_clus_calEta',\n",
    "                                                  'AntiKt10LCTopoLeadJets_clus_calPhi']).tolist()\n",
    "\n"
   ]
  },
  {
   "cell_type": "code",
   "execution_count": 10,
   "metadata": {},
   "outputs": [],
   "source": [
    "li_ttImgs  = getJetImages(df_ttSel)\n",
    "li_zttImgs = getJetImages(df_zttSel)\n",
    "np.savez_compressed('tt_leading_jet.npz', li_ttImgs)\n",
    "np.savez_compressed('ztt_leading_jet.npz',li_zttImgs)"
   ]
  },
  {
   "cell_type": "code",
   "execution_count": 11,
   "metadata": {},
   "outputs": [],
   "source": [
    "img1 = np.average(li_ttImgs,axis=0)\n",
    "img2 = np.average(li_zttImgs,axis=0)"
   ]
  },
  {
   "cell_type": "code",
   "execution_count": 12,
   "metadata": {},
   "outputs": [],
   "source": [
    "img1 = normalize(img1)\n",
    "img2 = normalize(img2)"
   ]
  },
  {
   "cell_type": "code",
   "execution_count": 13,
   "metadata": {
    "scrolled": true
   },
   "outputs": [
    {
     "data": {
      "text/plain": [
       "<matplotlib.image.AxesImage at 0x7f46b9b446d0>"
      ]
     },
     "execution_count": 13,
     "metadata": {},
     "output_type": "execute_result"
    },
    {
     "data": {
      "image/png": "[encoded data removed]",
      "text/plain": [
       "<Figure size 432x288 with 1 Axes>"
      ]
     },
     "metadata": {
      "needs_background": "light"
     },
     "output_type": "display_data"
    }
   ],
   "source": [
    "cmap = plt.get_cmap('gray')\n",
    "import matplotlib\n",
    "plt.imshow(img1,norm=matplotlib.colors.LogNorm())#,cmap=cmap)"
   ]
  },
  {
   "cell_type": "code",
   "execution_count": 14,
   "metadata": {},
   "outputs": [
    {
     "data": {
      "text/plain": [
       "<matplotlib.image.AxesImage at 0x7f46a0eb5ed0>"
      ]
     },
     "execution_count": 14,
     "metadata": {},
     "output_type": "execute_result"
    },
    {
     "data": {
      "image/png": "[encoded data removed]",
      "text/plain": [
       "<Figure size 432x288 with 1 Axes>"
      ]
     },
     "metadata": {
      "needs_background": "light"
     },
     "output_type": "display_data"
    }
   ],
   "source": [
    "plt.imshow(img2,norm=matplotlib.colors.LogNorm())#,cmap=cmap)"
   ]
  },
  {
   "cell_type": "code",
   "execution_count": 16,
   "metadata": {},
   "outputs": [
    {
     "name": "stdout",
     "output_type": "stream",
     "text": [
      "99856\n",
      "99297\n"
     ]
    }
   ],
   "source": [
    "from sklearn.model_selection import train_test_split\n",
    "import tensorflow.keras as keras\n",
    "x_data = np.concatenate((np.array(li_ttImgs), np.array(li_zttImgs)))\n",
    "x_data = x_data.reshape(x_data.shape + (1,)).astype('float32')\n",
    "x_data /= 255.\n",
    "y_data = np.array([0]*len(li_ttImgs)+[1]*len(li_zttImgs))\n",
    "y_data = keras.utils.to_categorical(y_data, 2)\n",
    "\n",
    "print(len(li_ttImgs))\n",
    "print(len(li_zttImgs))\n",
    "x_train, x_test, y_train, y_test = train_test_split(x_data,y_data,test_size=0.33, random_state=42)\n",
    "\n",
    "import h5py\n",
    "h5 = h5py.File('jetImages.h5','w')\n",
    "h5.create_dataset(\"x_train\",data=x_train)\n",
    "h5.create_dataset(\"x_test\",data=x_test)\n",
    "h5.create_dataset(\"y_train\",data=y_train)\n",
    "h5.create_dataset(\"y_test\",data=y_test)\n",
    "h5.close()"
   ]
  }
 ],
 "metadata": {
  "celltoolbar": "Raw Cell Format",
  "kernelspec": {
   "display_name": "Python 3",
   "language": "python",
   "name": "python3"
  },
  "language_info": {
   "codemirror_mode": {
    "name": "ipython",
    "version": 3
   },
   "file_extension": ".py",
   "mimetype": "text/x-python",
   "name": "python",
   "nbconvert_exporter": "python",
   "pygments_lexer": "ipython3",
   "version": "3.6.7"
  }
 },
 "nbformat": 4,
 "nbformat_minor": 5
}
